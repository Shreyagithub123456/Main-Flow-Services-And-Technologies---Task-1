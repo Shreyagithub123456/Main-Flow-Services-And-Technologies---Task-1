{
 "cells": [
  {
   "cell_type": "code",
   "execution_count": null,
   "id": "e8402e4f-1deb-4d92-b079-9ddcf2a5ea74",
   "metadata": {},
   "outputs": [],
   "source": [
    "#create a list"
   ]
  },
  {
   "cell_type": "code",
   "execution_count": 4,
   "id": "1791aeea-ef98-4037-b99d-0a7e8a508aef",
   "metadata": {},
   "outputs": [],
   "source": [
    "my_list = [1,2,3,4,5,]"
   ]
  },
  {
   "cell_type": "code",
   "execution_count": null,
   "id": "d9667e69-7f25-49d4-9bb8-b819d1e3cd10",
   "metadata": {},
   "outputs": [],
   "source": [
    "#create a dictionary"
   ]
  },
  {
   "cell_type": "code",
   "execution_count": 5,
   "id": "4e130ebe-0ae3-477c-937d-6f6116637fbf",
   "metadata": {},
   "outputs": [],
   "source": [
    "my_dict = {'a': 1, 'b': 2, 'c': 3}"
   ]
  },
  {
   "cell_type": "code",
   "execution_count": null,
   "id": "3eae9bb8-68e2-4c06-80c1-48d976bb11a5",
   "metadata": {},
   "outputs": [],
   "source": [
    "#create a set\n"
   ]
  },
  {
   "cell_type": "code",
   "execution_count": 7,
   "id": "259a634e-ce87-4769-9ea8-6e9abef0990b",
   "metadata": {},
   "outputs": [],
   "source": [
    "my_set = {1,2,3,4,5}"
   ]
  },
  {
   "cell_type": "code",
   "execution_count": null,
   "id": "6a76d567-2882-4d69-9b37-570f48c58850",
   "metadata": {},
   "outputs": [],
   "source": [
    "#print the initial list, dictionary, and set"
   ]
  },
  {
   "cell_type": "code",
   "execution_count": 8,
   "id": "ca9eef04-e66d-4cd4-b3f1-c94c0accf6d0",
   "metadata": {},
   "outputs": [
    {
     "name": "stdout",
     "output_type": "stream",
     "text": [
      "Initial list: [1, 2, 3, 4, 5]\n"
     ]
    }
   ],
   "source": [
    "print(\"Initial list:\", my_list)"
   ]
  },
  {
   "cell_type": "code",
   "execution_count": 9,
   "id": "fab6353f-3cf7-4b7e-8607-6edb3fb1aceb",
   "metadata": {},
   "outputs": [
    {
     "name": "stdout",
     "output_type": "stream",
     "text": [
      "Initial list: {'a': 1, 'b': 2, 'c': 3}\n"
     ]
    }
   ],
   "source": [
    "print(\"Initial list:\", my_dict)"
   ]
  },
  {
   "cell_type": "code",
   "execution_count": 10,
   "id": "6a1e0b3e-282e-49a3-a484-26200ea75217",
   "metadata": {},
   "outputs": [
    {
     "name": "stdout",
     "output_type": "stream",
     "text": [
      "Initial list: {1, 2, 3, 4, 5}\n"
     ]
    }
   ],
   "source": [
    "print(\"Initial list:\", my_set)"
   ]
  },
  {
   "cell_type": "code",
   "execution_count": null,
   "id": "b8ac5f48-d7cf-456d-b672-9ee5b242f5f9",
   "metadata": {},
   "outputs": [],
   "source": [
    "#Adding elements"
   ]
  },
  {
   "cell_type": "code",
   "execution_count": 11,
   "id": "cb3bb6e9-cdb5-4790-8fb5-e7fe05d70cdd",
   "metadata": {},
   "outputs": [],
   "source": [
    "my_list.append(6)"
   ]
  },
  {
   "cell_type": "code",
   "execution_count": 12,
   "id": "58e120b7-3cf5-4cf9-b57c-b1af3012e942",
   "metadata": {},
   "outputs": [],
   "source": [
    "my_dict['d'] = 4"
   ]
  },
  {
   "cell_type": "code",
   "execution_count": 13,
   "id": "bfce0995-c1d5-4ebc-ab61-0f08edd0679b",
   "metadata": {},
   "outputs": [],
   "source": [
    "my_set.add(6)"
   ]
  },
  {
   "cell_type": "code",
   "execution_count": 14,
   "id": "b26eb8b4-6b79-434d-b6a8-d840a9ab2b7f",
   "metadata": {},
   "outputs": [],
   "source": [
    "#Removing elements"
   ]
  },
  {
   "cell_type": "code",
   "execution_count": 15,
   "id": "9c320935-13a4-4f15-a7ef-221e0dc1adc9",
   "metadata": {},
   "outputs": [],
   "source": [
    "my_list.remove(3)"
   ]
  },
  {
   "cell_type": "code",
   "execution_count": 18,
   "id": "fe85c428-04ab-4b20-a8e1-6516f7f236fe",
   "metadata": {},
   "outputs": [],
   "source": [
    "del my_dict['b'] "
   ]
  },
  {
   "cell_type": "code",
   "execution_count": 19,
   "id": "58cedd4a-64c1-4129-865d-49c29bc849b6",
   "metadata": {},
   "outputs": [],
   "source": [
    "my_set.remove(5)"
   ]
  },
  {
   "cell_type": "code",
   "execution_count": 20,
   "id": "d3b7c18b-1433-47e5-ad5e-e9a237e0cf9f",
   "metadata": {},
   "outputs": [],
   "source": [
    "#Modifying elements"
   ]
  },
  {
   "cell_type": "code",
   "execution_count": 22,
   "id": "e8ec01ee-5fbc-4698-a178-a9938237233d",
   "metadata": {},
   "outputs": [],
   "source": [
    "my_list[0] = 10"
   ]
  },
  {
   "cell_type": "code",
   "execution_count": 23,
   "id": "b3722b38-ce69-4a3f-a77d-8dda2379a486",
   "metadata": {},
   "outputs": [],
   "source": [
    "my_dict['a'] = 10"
   ]
  },
  {
   "cell_type": "code",
   "execution_count": 24,
   "id": "b409872a-ca8c-4f56-a7f6-0123c6dd001e",
   "metadata": {},
   "outputs": [],
   "source": [
    "my_set.add(10)"
   ]
  },
  {
   "cell_type": "code",
   "execution_count": 25,
   "id": "2d41cfa5-81a1-49da-a2ad-a2c753b77746",
   "metadata": {},
   "outputs": [],
   "source": [
    "#print the modifying list,dictionary,and set"
   ]
  },
  {
   "cell_type": "code",
   "execution_count": 26,
   "id": "20ace3d0-e238-4fda-a81e-2845cf8df2e8",
   "metadata": {},
   "outputs": [
    {
     "name": "stdout",
     "output_type": "stream",
     "text": [
      "Modifying list: [10, 2, 4, 5, 6]\n"
     ]
    }
   ],
   "source": [
    "print(\"Modifying list:\", my_list)"
   ]
  },
  {
   "cell_type": "code",
   "execution_count": 28,
   "id": "be8be82f-bb58-4a96-8861-99a4481e344d",
   "metadata": {},
   "outputs": [
    {
     "name": "stdout",
     "output_type": "stream",
     "text": [
      "Modifying dictionary: {'a': 10, 'c': 3, 'd': 4}\n"
     ]
    }
   ],
   "source": [
    "print(\"Modifying dictionary:\", my_dict)"
   ]
  },
  {
   "cell_type": "code",
   "execution_count": 29,
   "id": "d4300165-0d89-4858-b6c3-2f7fa1895a3d",
   "metadata": {},
   "outputs": [
    {
     "name": "stdout",
     "output_type": "stream",
     "text": [
      "Modifying set: {1, 2, 3, 4, 6, 10}\n"
     ]
    }
   ],
   "source": [
    "print(\"Modifying set:\", my_set)"
   ]
  },
  {
   "cell_type": "code",
   "execution_count": null,
   "id": "b19c8f9c-0ec5-4439-be8d-8b4f84239718",
   "metadata": {},
   "outputs": [],
   "source": []
  }
 ],
 "metadata": {
  "kernelspec": {
   "display_name": "Python 3 (ipykernel)",
   "language": "python",
   "name": "python3"
  },
  "language_info": {
   "codemirror_mode": {
    "name": "ipython",
    "version": 3
   },
   "file_extension": ".py",
   "mimetype": "text/x-python",
   "name": "python",
   "nbconvert_exporter": "python",
   "pygments_lexer": "ipython3",
   "version": "3.12.1"
  }
 },
 "nbformat": 4,
 "nbformat_minor": 5
}
